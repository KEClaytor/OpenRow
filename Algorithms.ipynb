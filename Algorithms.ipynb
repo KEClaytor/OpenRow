{
 "cells": [
  {
   "cell_type": "markdown",
   "metadata": {},
   "source": [
    "# Better acceleration detector\n",
    "\n",
    "Here we keep a running history of the acceleration values.\n",
    "We use this history to figure out the direction of gravity (g_hat).\n",
    "Once we know the direction of gravity we can figure out the direction of our current acceleration (a) that is in the direction of gravity (v_g).\n",
    "By subtracting off this component, we leave only the componet of our current acceleration that is perpendicular to gravity - the acceleration caused by rowing."
   ]
  },
  {
   "cell_type": "code",
   "execution_count": 1,
   "metadata": {},
   "outputs": [],
   "source": [
    "import math"
   ]
  },
  {
   "cell_type": "code",
   "execution_count": 2,
   "metadata": {},
   "outputs": [],
   "source": [
    "x = [0, 0, 1, 2, 1, 0, 2, 1, 5, 6, 3, 2, 1]\n",
    "y = [0, 1, 2, 1, 0, 2, 1, 1, 3, 3, 2, 1, 0]\n",
    "z = [9, 9, 9, 9, 9, 9, 9, 9, 9, 9, 9, 9, 9]"
   ]
  },
  {
   "cell_type": "code",
   "execution_count": 3,
   "metadata": {},
   "outputs": [],
   "source": [
    "def vector_mean(vector_list):\n",
    "    \"\"\" Average a list of 3-vectors\n",
    "\n",
    "    [(x1, y1, z1), ..., (xn, yn, zn)] -> (xm, ym, zm)\n",
    "    \"\"\"\n",
    "    vlen = len(vector_list)\n",
    "    mv = tuple(\n",
    "        sum(v[ii] for v in vector_list) / vlen for ii in range(3)\n",
    "    )\n",
    "    return mv\n",
    "\n",
    "def vector_multiply(s, v):\n",
    "    \"\"\" Multiply a vector by a scalar\n",
    "    \"\"\"\n",
    "    return tuple(s * vi for vi in v)\n",
    "\n",
    "def vector_subtract(va, vb):\n",
    "    \"\"\" Vector version of a - b\n",
    "    \"\"\"\n",
    "    return tuple(a - b for a, b in zip(va, vb))\n",
    "\n",
    "def dot(xv, yv):\n",
    "    \"\"\" Dot product: xv.yv\n",
    "    \"\"\"\n",
    "    return sum(x*y for x, y in zip(xv, yv))\n",
    "\n",
    "def norm(v):\n",
    "    \"\"\" Euclidean norm: sqrt(v.v)\n",
    "    \"\"\"\n",
    "    mv = math.sqrt(dot(v, v))\n",
    "    return tuple(vi/mv for vi in v)"
   ]
  },
  {
   "cell_type": "code",
   "execution_count": 4,
   "metadata": {},
   "outputs": [
    {
     "name": "stdout",
     "output_type": "stream",
     "text": [
      "[(0, 0, 9), (0, 1, 9), (1, 2, 9), (2, 1, 9), (1, 0, 9), (0, 2, 9), (2, 1, 9), (1, 1, 9)]\n",
      "(0.875, 1.0, 9.0)\n",
      "(0.09617961926411278, 0.10991956487327174, 0.9892760838594457)\n"
     ]
    }
   ],
   "source": [
    "hv = []\n",
    "for ii in range(8):\n",
    "    hv.append((x[ii], y[ii], z[ii]))\n",
    "print(hv)\n",
    "\n",
    "mv = vector_mean(hv)\n",
    "print(mv)\n",
    "\n",
    "nv = norm(mv)\n",
    "print(nv)"
   ]
  },
  {
   "cell_type": "code",
   "execution_count": 5,
   "metadata": {},
   "outputs": [],
   "source": [
    "def GravityRemover(history=10):\n",
    "    \"\"\" Track and remove the average component of N acceleration vectors\n",
    "\n",
    "    Internally track the last N accleration vectors.\n",
    "    Compute the average acceleration vector from these.\n",
    "    Then subtract that from the current acceleration vector.\n",
    "    And return this reduced acceleration vector.\n",
    "    \"\"\"\n",
    "    hv = []\n",
    "    def _call(v):\n",
    "\n",
    "        if len(hv) < 1:\n",
    "            v_reduced = (0, 0, 0)\n",
    "        else:\n",
    "            # Compute the direction of average acceleration\n",
    "            a_hat = norm(vector_mean(hv))\n",
    "            # Remove the component parallel to average accleration\n",
    "            v_parallel = vector_multiply(dot(v, a_hat), a_hat)\n",
    "            v_reduced = vector_subtract(v, v_parallel)\n",
    "        # Update the history elements with the new vector\n",
    "        hv.append(v)\n",
    "        if len(hv) > history:\n",
    "            hv.pop(0)\n",
    "        return v_reduced\n",
    "\n",
    "    return _call"
   ]
  },
  {
   "cell_type": "code",
   "execution_count": 6,
   "metadata": {},
   "outputs": [
    {
     "name": "stdout",
     "output_type": "stream",
     "text": [
      "0\n",
      "1.0\n",
      "3.2430769230769227\n",
      "2.774018944519621\n",
      "1.0545041635124905\n",
      "2.0787554691298005\n",
      "1.7681940700808625\n",
      "0.020226936359151463\n",
      "20.63545403058335\n",
      "24.101963082332265\n",
      "1.6955916473317856\n",
      "0.35443901329998867\n",
      "3.903320202588632\n"
     ]
    }
   ],
   "source": [
    "gr = GravityRemover()\n",
    "for xi, yi, zi in zip(x, y, z):\n",
    "    vr = gr((xi, yi, zi))\n",
    "    print(dot(vr, vr))"
   ]
  },
  {
   "cell_type": "markdown",
   "metadata": {},
   "source": [
    "# Thresholder\n",
    "\n",
    "Now that we are sensitive to basically the perpendicular direction (not gravity) we can make a thresholder.\n",
    "This is a basic thresholder that only triggers if the last N samples are of the other state."
   ]
  },
  {
   "cell_type": "code",
   "execution_count": 7,
   "metadata": {},
   "outputs": [],
   "source": [
    "# import operator\n",
    "# This would be the obvious choice, but is not present in my circuitpython"
   ]
  },
  {
   "cell_type": "code",
   "execution_count": 8,
   "metadata": {},
   "outputs": [],
   "source": [
    "values = [5, 1, 1, 1, 1, 5, 5, 5, 5, 1, 5, 1, 1, 1, 5, 1, 1, 1]\n",
    "rising = [1, 0, 0, 0, 0, 1, 0, 0, 0, 0, 0, 0, 0, 0, 1, 0, 0, 0]\n",
    "fallin = [0, 1, 0, 0, 0, 0, 0, 0, 0, 1, 0, 0, 0, 0, 0, 0, 0, 0]"
   ]
  },
  {
   "cell_type": "code",
   "execution_count": 9,
   "metadata": {},
   "outputs": [],
   "source": [
    "def HistoryThresholder(threshold=10, history=10, mode=\"rising\"):\n",
    "    \"\"\" Pulse when something exceeds our threshold\n",
    "    But maintain a history with hystersis so we don't accidentally trigger.\n",
    "    \"\"\"\n",
    "    if mode == \"rising\":\n",
    "        comparitor = lambda x, y: x > y\n",
    "    elif mode == \"falling\":\n",
    "        comparitor = lambda x, y: x < y\n",
    "    else:\n",
    "        raise ValueError(\"mode can be 'rising' or 'falling'\")\n",
    "\n",
    "    previous = []\n",
    "    def _call(value):\n",
    "        condition_met = comparitor(value, threshold)\n",
    "        if condition_met and not any(previous):\n",
    "            trigger = True\n",
    "        else:\n",
    "            trigger = False\n",
    "        previous.append(condition_met)\n",
    "        if len(previous) > history:\n",
    "            previous.pop(0)\n",
    "        return trigger\n",
    "        \n",
    "    return _call"
   ]
  },
  {
   "cell_type": "code",
   "execution_count": 10,
   "metadata": {},
   "outputs": [
    {
     "name": "stdout",
     "output_type": "stream",
     "text": [
      "[True, False, False, False, False, True, False, False, False, False, False, False, False, False, True, False, False, False]\n",
      "[True, False, False, False, False, True, False, False, False, False, False, False, False, False, True, False, False, False]\n"
     ]
    }
   ],
   "source": [
    "# Test rising edge case\n",
    "ht = HistoryThresholder(threshold=2, history=3)\n",
    "result = [ht(v) for v in values]\n",
    "want = [bool(n) for n in rising]\n",
    "print(result)\n",
    "print(want)\n",
    "assert want == result"
   ]
  },
  {
   "cell_type": "code",
   "execution_count": 11,
   "metadata": {},
   "outputs": [
    {
     "name": "stdout",
     "output_type": "stream",
     "text": [
      "[False, True, False, False, False, False, False, False, False, True, False, False, False, False, False, False, False, False]\n",
      "[False, True, False, False, False, False, False, False, False, True, False, False, False, False, False, False, False, False]\n"
     ]
    }
   ],
   "source": [
    "# Test falling edge case\n",
    "ht = HistoryThresholder(threshold=2, history=3, mode=\"falling\")\n",
    "result = [ht(v) for v in values]\n",
    "want = [bool(n) for n in fallin]\n",
    "print(result)\n",
    "print(want)\n",
    "assert want == result"
   ]
  },
  {
   "cell_type": "markdown",
   "metadata": {},
   "source": [
    "# Stroke Rate\n",
    "\n",
    "Now that we have a stroke identifier, let's work on rate."
   ]
  },
  {
   "cell_type": "code",
   "execution_count": 12,
   "metadata": {},
   "outputs": [],
   "source": [
    "import time"
   ]
  },
  {
   "cell_type": "code",
   "execution_count": 13,
   "metadata": {},
   "outputs": [],
   "source": [
    "def StrokeRate(history=3, forget=120):\n",
    "    \"\"\" Compute stroke rate\n",
    "    Inputs:\n",
    "        history = remember this many strokes\n",
    "        forget = forget strokes older than this time\n",
    "    \"\"\"\n",
    "    # A single value becomes a local variable\n",
    "    stroke_rate = [0]\n",
    "    stroke_times = []\n",
    "    def _call(stroke):\n",
    "        currently = time.monotonic()\n",
    "        # Drop old measurements\n",
    "        if stroke_times:\n",
    "            if (currently - stroke_times[0]) > forget:\n",
    "                stroke_times.pop(0)\n",
    "        # Add new measurements\n",
    "        if stroke:\n",
    "            stroke_times.append(currently)\n",
    "            if len(stroke_times) > history:\n",
    "                stroke_times.pop(0)\n",
    "        # Update our rate\n",
    "        strokes = len(stroke_times)\n",
    "        if strokes > 1:\n",
    "            delta_t = stroke_times[-1] - stroke_times[0]\n",
    "            # strokes / delta_t [s] * 60 [s]/minute\n",
    "            stroke_rate[0] = round(60 * strokes / delta_t, 1)\n",
    "        else:\n",
    "            stroke_rate[0] = 0\n",
    "        return stroke_rate[0]\n",
    "\n",
    "    return _call"
   ]
  },
  {
   "cell_type": "code",
   "execution_count": 14,
   "metadata": {},
   "outputs": [],
   "source": [
    "values = [\n",
    "            1, 1, 5, 1, 1, 5, 1, 1, 5, 1, 1, 1, 1,\n",
    "            5,   1,   1,   1,   1,   5, 1, 1, 1, 1, 5, # 11 points = 11 s\n",
    "            1, 1, 1, 1, 1, 1, 1, 1, 1, 1, 1, 1, 1, 1, 1,\n",
    "         ]\n",
    "expect = [\n",
    "            0, 0, 0, 0, 0, 40,40,40,30,30,30,30,30,\n",
    "            22.5,22.5,22.5,22.5,22.5,18,18,18,18,18,18,\n",
    "            18,24,24,24,24,24,24,0 ,0 ,0 ,0, 0, 0, 0, 0,\n",
    "         ]"
   ]
  },
  {
   "cell_type": "code",
   "execution_count": 15,
   "metadata": {},
   "outputs": [
    {
     "name": "stdout",
     "output_type": "stream",
     "text": [
      "got::wanted 0::0 (2%)\n",
      "got::wanted 0::0 (5%)\n",
      "got::wanted 0::0 (7%)\n",
      "got::wanted 0::0 (10%)\n",
      "got::wanted 0::0 (12%)\n",
      "got::wanted 40.0::40 (15%)\n",
      "got::wanted 40.0::40 (17%)\n",
      "got::wanted 40.0::40 (20%)\n",
      "got::wanted 30.0::30 (23%)\n",
      "got::wanted 30.0::30 (25%)\n",
      "got::wanted 30.0::30 (28%)\n",
      "got::wanted 30.0::30 (30%)\n",
      "got::wanted 30.0::30 (33%)\n",
      "got::wanted 22.5::22.5 (35%)\n",
      "got::wanted 22.5::22.5 (38%)\n",
      "got::wanted 22.5::22.5 (41%)\n",
      "got::wanted 22.5::22.5 (43%)\n",
      "got::wanted 22.5::22.5 (46%)\n",
      "got::wanted 18.0::18 (48%)\n",
      "got::wanted 18.0::18 (51%)\n",
      "got::wanted 18.0::18 (53%)\n",
      "got::wanted 24.0::18 (56%)\n",
      "got::wanted 24.0::18 (58%)\n",
      "got::wanted 18.0::18 (61%)\n",
      "got::wanted 18.0::18 (64%)\n",
      "got::wanted 24.0::24 (66%)\n",
      "got::wanted 24.0::24 (69%)\n",
      "got::wanted 24.0::24 (71%)\n",
      "got::wanted 24.0::24 (74%)\n",
      "got::wanted 24.0::24 (76%)\n",
      "got::wanted 0::24 (79%)\n",
      "got::wanted 0::0 (82%)\n",
      "got::wanted 0::0 (84%)\n",
      "got::wanted 0::0 (87%)\n",
      "got::wanted 0::0 (89%)\n",
      "got::wanted 0::0 (92%)\n",
      "got::wanted 0::0 (94%)\n",
      "got::wanted 0::0 (97%)\n",
      "got::wanted 0::0 (100%)\n"
     ]
    },
    {
     "ename": "AssertionError",
     "evalue": "",
     "output_type": "error",
     "traceback": [
      "\u001b[1;31m---------------------------------------------------------------------------\u001b[0m",
      "\u001b[1;31mAssertionError\u001b[0m                            Traceback (most recent call last)",
      "\u001b[1;32m<ipython-input-15-6ec0602dd434>\u001b[0m in \u001b[0;36m<module>\u001b[1;34m()\u001b[0m\n\u001b[0;32m     10\u001b[0m     \u001b[0mtime\u001b[0m\u001b[1;33m.\u001b[0m\u001b[0msleep\u001b[0m\u001b[1;33m(\u001b[0m\u001b[1;36m1\u001b[0m\u001b[1;33m)\u001b[0m\u001b[1;33m\u001b[0m\u001b[0m\n\u001b[0;32m     11\u001b[0m \u001b[1;33m\u001b[0m\u001b[0m\n\u001b[1;32m---> 12\u001b[1;33m \u001b[1;32massert\u001b[0m \u001b[0mrates\u001b[0m \u001b[1;33m==\u001b[0m \u001b[0mexpect\u001b[0m\u001b[1;33m\u001b[0m\u001b[0m\n\u001b[0m\u001b[0;32m     13\u001b[0m \u001b[0mprint\u001b[0m\u001b[1;33m(\u001b[0m\u001b[1;34m\"pass\"\u001b[0m\u001b[1;33m)\u001b[0m\u001b[1;33m\u001b[0m\u001b[0m\n",
      "\u001b[1;31mAssertionError\u001b[0m: "
     ]
    }
   ],
   "source": [
    "ht = HistoryThresholder(threshold=2, history=2)\n",
    "sr = StrokeRate(history=3, forget=12)\n",
    "\n",
    "rates = []\n",
    "for ii, (v, e) in enumerate(zip(values, expect)):\n",
    "    s = ht(v)\n",
    "    r = sr(s)\n",
    "    rates.append(r)\n",
    "    print(f\"got::wanted {r}::{e} ({100*(ii+1)//len(values)}%)\")\n",
    "    time.sleep(1)\n",
    "\n",
    "assert rates == expect\n",
    "print(\"pass\")"
   ]
  },
  {
   "cell_type": "code",
   "execution_count": null,
   "metadata": {},
   "outputs": [],
   "source": []
  }
 ],
 "metadata": {
  "kernelspec": {
   "display_name": "Python 3",
   "language": "python",
   "name": "python3"
  },
  "language_info": {
   "codemirror_mode": {
    "name": "ipython",
    "version": 3
   },
   "file_extension": ".py",
   "mimetype": "text/x-python",
   "name": "python",
   "nbconvert_exporter": "python",
   "pygments_lexer": "ipython3",
   "version": "3.6.5"
  }
 },
 "nbformat": 4,
 "nbformat_minor": 2
}
